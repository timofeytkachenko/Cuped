{
 "cells": [
  {
   "cell_type": "code",
   "execution_count": 1,
   "metadata": {
    "collapsed": true,
    "ExecuteTime": {
     "end_time": "2023-06-11T12:10:46.401206600Z",
     "start_time": "2023-06-11T12:10:45.957436600Z"
    }
   },
   "outputs": [],
   "source": [
    "import numpy as np\n",
    "import pandas as pd\n",
    "from cuped.cuped import Cuped, MultiCuped"
   ]
  },
  {
   "cell_type": "code",
   "execution_count": 2,
   "outputs": [],
   "source": [
    "sample_1 = np.random.exponential(scale=1.0, size=1000)\n",
    "sample_2 = np.random.exponential(scale=0.3, size=1000)"
   ],
   "metadata": {
    "collapsed": false,
    "ExecuteTime": {
     "end_time": "2023-06-11T12:10:46.418668700Z",
     "start_time": "2023-06-11T12:10:46.401206600Z"
    }
   }
  },
  {
   "cell_type": "code",
   "execution_count": 3,
   "outputs": [],
   "source": [
    "data_df = pd.DataFrame({'sample_1': sample_1, 'sample_2': sample_2})"
   ],
   "metadata": {
    "collapsed": false,
    "ExecuteTime": {
     "end_time": "2023-06-11T12:10:46.444461Z",
     "start_time": "2023-06-11T12:10:46.418668700Z"
    }
   }
  },
  {
   "cell_type": "code",
   "execution_count": 12,
   "outputs": [],
   "source": [
    "cuped = Cuped()"
   ],
   "metadata": {
    "collapsed": false,
    "ExecuteTime": {
     "end_time": "2023-06-11T12:12:48.248562500Z",
     "start_time": "2023-06-11T12:12:48.242744500Z"
    }
   }
  },
  {
   "cell_type": "code",
   "execution_count": 13,
   "outputs": [
    {
     "name": "stderr",
     "output_type": "stream",
     "text": [
      "ambrosia LOGGER: After transformation СUPED for sample_2, the variance is 99.9616 % of the original\n",
      "ambrosia LOGGER: Variance transformation 0.0810 ===> 0.0810\n"
     ]
    },
    {
     "data": {
      "text/plain": "     sample_1  sample_2  sample_2_transformed\n0    0.153553  0.262529              0.258649\n1    0.765110  0.907612              0.906591\n2    0.374843  0.202443              0.199597\n3    0.054879  0.430421              0.426079\n4    1.916335  0.167216              0.171580\n..        ...       ...                   ...\n995  1.658998  0.193638              0.196797\n996  1.081434  0.086034              0.086493\n997  0.717447  0.373939              0.372695\n998  0.373734  0.063550              0.060699\n999  0.016149  0.464658              0.460135\n\n[1000 rows x 3 columns]",
      "text/html": "<div>\n<style scoped>\n    .dataframe tbody tr th:only-of-type {\n        vertical-align: middle;\n    }\n\n    .dataframe tbody tr th {\n        vertical-align: top;\n    }\n\n    .dataframe thead th {\n        text-align: right;\n    }\n</style>\n<table border=\"1\" class=\"dataframe\">\n  <thead>\n    <tr style=\"text-align: right;\">\n      <th></th>\n      <th>sample_1</th>\n      <th>sample_2</th>\n      <th>sample_2_transformed</th>\n    </tr>\n  </thead>\n  <tbody>\n    <tr>\n      <th>0</th>\n      <td>0.153553</td>\n      <td>0.262529</td>\n      <td>0.258649</td>\n    </tr>\n    <tr>\n      <th>1</th>\n      <td>0.765110</td>\n      <td>0.907612</td>\n      <td>0.906591</td>\n    </tr>\n    <tr>\n      <th>2</th>\n      <td>0.374843</td>\n      <td>0.202443</td>\n      <td>0.199597</td>\n    </tr>\n    <tr>\n      <th>3</th>\n      <td>0.054879</td>\n      <td>0.430421</td>\n      <td>0.426079</td>\n    </tr>\n    <tr>\n      <th>4</th>\n      <td>1.916335</td>\n      <td>0.167216</td>\n      <td>0.171580</td>\n    </tr>\n    <tr>\n      <th>...</th>\n      <td>...</td>\n      <td>...</td>\n      <td>...</td>\n    </tr>\n    <tr>\n      <th>995</th>\n      <td>1.658998</td>\n      <td>0.193638</td>\n      <td>0.196797</td>\n    </tr>\n    <tr>\n      <th>996</th>\n      <td>1.081434</td>\n      <td>0.086034</td>\n      <td>0.086493</td>\n    </tr>\n    <tr>\n      <th>997</th>\n      <td>0.717447</td>\n      <td>0.373939</td>\n      <td>0.372695</td>\n    </tr>\n    <tr>\n      <th>998</th>\n      <td>0.373734</td>\n      <td>0.063550</td>\n      <td>0.060699</td>\n    </tr>\n    <tr>\n      <th>999</th>\n      <td>0.016149</td>\n      <td>0.464658</td>\n      <td>0.460135</td>\n    </tr>\n  </tbody>\n</table>\n<p>1000 rows × 3 columns</p>\n</div>"
     },
     "execution_count": 13,
     "metadata": {},
     "output_type": "execute_result"
    }
   ],
   "source": [
    "cuped.fit_transform(data_df, covariate_column='sample_1', target_column='sample_2')"
   ],
   "metadata": {
    "collapsed": false,
    "ExecuteTime": {
     "end_time": "2023-06-11T12:12:48.651045800Z",
     "start_time": "2023-06-11T12:12:48.605455900Z"
    }
   }
  },
  {
   "cell_type": "code",
   "execution_count": null,
   "outputs": [],
   "source": [],
   "metadata": {
    "collapsed": false
   }
  }
 ],
 "metadata": {
  "kernelspec": {
   "display_name": "Python 3",
   "language": "python",
   "name": "python3"
  },
  "language_info": {
   "codemirror_mode": {
    "name": "ipython",
    "version": 2
   },
   "file_extension": ".py",
   "mimetype": "text/x-python",
   "name": "python",
   "nbconvert_exporter": "python",
   "pygments_lexer": "ipython2",
   "version": "2.7.6"
  }
 },
 "nbformat": 4,
 "nbformat_minor": 0
}
